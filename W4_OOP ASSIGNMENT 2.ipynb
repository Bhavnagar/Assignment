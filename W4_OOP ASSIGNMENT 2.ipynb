{
 "cells": [
  {
   "cell_type": "markdown",
   "id": "36e5f615-d6da-435a-b3aa-2dfa7660faee",
   "metadata": {},
   "source": [
    "#### 1.What is Abstraction in OOps? Explain with an example."
   ]
  },
  {
   "cell_type": "markdown",
   "id": "8a288531-973c-4a6c-8528-548c41a4fc9c",
   "metadata": {},
   "source": [
    "->Abstraction in object-oriented programming (OOP) is a concept that allows us to represent complex systems or real-world entities in a simplified manner. It involves focusing on essential characteristics and behaviors while hiding unnecessary details.\n",
    "\n",
    "->Abstraction is achieved through the use of abstract classes and interfaces. An abstract class is a class that cannot be instantiated and serves as a blueprint for derived classes. It may contain abstract methods, which are declared without implementation details, as well as concrete methods with actual code. An interface, on the other hand, is a contract that defines a set of method signatures that must be implemented by any class that implements the interface."
   ]
  },
  {
   "cell_type": "code",
   "execution_count": 6,
   "id": "3a8bf50d-1686-47af-a549-0d19eb0d3552",
   "metadata": {},
   "outputs": [],
   "source": [
    "import abc\n",
    "\n",
    "class PaymentMethod:\n",
    "    @abc.abstractclassmethod\n",
    "    def pay(self, amount):\n",
    "        pass\n",
    "\n",
    "class CreditCard(PaymentMethod):\n",
    "    def pay(self, amount):\n",
    "        print(f\"Paying ${amount} with credit card\")\n",
    "\n",
    "class PayPal(PaymentMethod):\n",
    "    def pay(self, amount):\n",
    "        print(f\"Paying ${amount} with PayPal\")"
   ]
  },
  {
   "cell_type": "code",
   "execution_count": 7,
   "id": "4a3d9d56-7524-4039-9075-6cba444f264e",
   "metadata": {},
   "outputs": [
    {
     "name": "stdout",
     "output_type": "stream",
     "text": [
      "Paying $100 with credit card\n"
     ]
    }
   ],
   "source": [
    "credit_card = CreditCard()\n",
    "credit_card.pay(100)"
   ]
  },
  {
   "cell_type": "code",
   "execution_count": 10,
   "id": "b001c06e-6e62-4ccc-bdbc-0f8b09b97f51",
   "metadata": {},
   "outputs": [
    {
     "name": "stdout",
     "output_type": "stream",
     "text": [
      "Paying $20 with PayPal\n"
     ]
    }
   ],
   "source": [
    "paypal = PayPal()\n",
    "paypal.pay(20)"
   ]
  },
  {
   "cell_type": "markdown",
   "id": "879022e6-2d8b-4e25-aae7-509201fd3290",
   "metadata": {},
   "source": [
    "#### 2.Differentiate between Abstraction and Encapsulation. Explain with an example."
   ]
  },
  {
   "cell_type": "markdown",
   "id": "b9dc890a-a3dd-427b-b292-43b4be3e3a40",
   "metadata": {},
   "source": [
    "->Abstraction:\n",
    "\n",
    "Abstraction is a concept that focuses on the behavior and characteristics of an object without exposing its internal implementation details.\n",
    "It allows us to represent complex systems or entities in a simplified manner by emphasizing only the essential features and hiding the irrelevant or unnecessary details.\n",
    "Abstraction is achieved through the use of abstract classes, interfaces, and abstract methods in object-oriented programming.\n",
    "It helps in managing complexity, improving code reusability, and promoting modularity.\n",
    "Examples of abstraction can be found in the use of interfaces to define common behaviors that multiple classes can implement, or in the creation of base classes that provide a common interface for derived classes.\n",
    "\n",
    "->Encapsulation:\n",
    "\n",
    "Encapsulation is a principle of bundling data and methods together within a class and controlling access to them.\n",
    "It ensures that the internal state (data) of an object is hidden and can only be accessed or modified through well-defined methods (getters and setters).\n",
    "Encapsulation protects the integrity of the data and prevents direct external manipulation, allowing for better control and maintenance of the object's state.\n",
    "It helps in achieving data hiding, information hiding, and improved maintainability."
   ]
  },
  {
   "cell_type": "code",
   "execution_count": 11,
   "id": "a4227f16-6255-4365-8373-a2733fedd632",
   "metadata": {},
   "outputs": [],
   "source": [
    "# Abstraction\n",
    "class Car:\n",
    "    def __init__(self, make, model, color):\n",
    "        self.make = make\n",
    "        self.model = model\n",
    "        self.color = color\n",
    "\n",
    "    def start_engine(self):\n",
    "        print(f\"The {self.color} {self.make} {self.model} car engine is starting.\")\n",
    "\n",
    "    def accelerate(self):\n",
    "        print(f\"The {self.color} {self.make} {self.model} car is accelerating.\")\n",
    "\n",
    "    def brake(self):\n",
    "        print(f\"The {self.color} {self.make} {self.model} car is braking.\")"
   ]
  },
  {
   "cell_type": "code",
   "execution_count": 13,
   "id": "2c9e45e4-4a3b-4848-ade5-b0d0d13cfd61",
   "metadata": {},
   "outputs": [],
   "source": [
    "my_car = Car(\"Honda\", \"Civic\", \"White\")"
   ]
  },
  {
   "cell_type": "code",
   "execution_count": 15,
   "id": "1ad7a0e8-bd45-423a-9c43-109026fdcde3",
   "metadata": {},
   "outputs": [
    {
     "name": "stdout",
     "output_type": "stream",
     "text": [
      "The White Honda Civic car engine is starting.\n"
     ]
    }
   ],
   "source": [
    "my_car.start_engine()"
   ]
  },
  {
   "cell_type": "code",
   "execution_count": 16,
   "id": "c2a11cc1-12ff-478d-b20c-4dbef1b3ddfa",
   "metadata": {},
   "outputs": [
    {
     "data": {
      "text/plain": [
       "'Honda'"
      ]
     },
     "execution_count": 16,
     "metadata": {},
     "output_type": "execute_result"
    }
   ],
   "source": [
    "my_car.make"
   ]
  },
  {
   "cell_type": "code",
   "execution_count": 17,
   "id": "774ed3bd-5da2-466f-88c0-56ae3fb31d3f",
   "metadata": {},
   "outputs": [
    {
     "name": "stdout",
     "output_type": "stream",
     "text": [
      "The White Honda Civic car is accelerating.\n"
     ]
    }
   ],
   "source": [
    "my_car.accelerate()"
   ]
  },
  {
   "cell_type": "code",
   "execution_count": 18,
   "id": "15287636-cdb2-42c2-a796-097aeee47b35",
   "metadata": {},
   "outputs": [
    {
     "name": "stdout",
     "output_type": "stream",
     "text": [
      "The White Honda Civic car is braking.\n"
     ]
    }
   ],
   "source": [
    "my_car.brake()"
   ]
  },
  {
   "cell_type": "code",
   "execution_count": 53,
   "id": "b27bba18-3394-4238-b2f0-af6332382cfd",
   "metadata": {},
   "outputs": [],
   "source": [
    "# Encapsulation\n",
    "\n",
    "class Employee:\n",
    "    def __init__(self, name, salary):\n",
    "        self.__name = name\n",
    "        self.__salary = salary\n",
    "\n",
    "    def get_name(self):\n",
    "        return self.__name\n",
    "\n",
    "    def get_salary(self):\n",
    "        return self.__salary\n",
    "\n",
    "    def set_salary(self, new_salary):\n",
    "        if new_salary > 0:\n",
    "            self.__salary = new_salary\n",
    "\n",
    "    def display_info(self):\n",
    "        print(\"Name:{}\".format(self.__name))\n",
    "        print(f\"Salary: {self.__salary}\")"
   ]
  },
  {
   "cell_type": "code",
   "execution_count": 54,
   "id": "67f126a1-5daa-4faf-8665-1085c70ba8cf",
   "metadata": {},
   "outputs": [],
   "source": [
    "employee = Employee(\"John Doe\", 5000)"
   ]
  },
  {
   "cell_type": "code",
   "execution_count": 55,
   "id": "8ccdfe99-235a-43a5-b315-807ddf4322a5",
   "metadata": {},
   "outputs": [
    {
     "data": {
      "text/plain": [
       "'John Doe'"
      ]
     },
     "execution_count": 55,
     "metadata": {},
     "output_type": "execute_result"
    }
   ],
   "source": [
    "employee.get_name()"
   ]
  },
  {
   "cell_type": "code",
   "execution_count": 56,
   "id": "553c842c-c71d-463d-86a8-68700f4d0fc5",
   "metadata": {},
   "outputs": [
    {
     "data": {
      "text/plain": [
       "5000"
      ]
     },
     "execution_count": 56,
     "metadata": {},
     "output_type": "execute_result"
    }
   ],
   "source": [
    "employee.get_salary()"
   ]
  },
  {
   "cell_type": "code",
   "execution_count": 57,
   "id": "4052372e-c015-4c4c-b116-db586b922cda",
   "metadata": {},
   "outputs": [],
   "source": [
    "employee.set_salary(6000)"
   ]
  },
  {
   "cell_type": "code",
   "execution_count": 58,
   "id": "870dc434-50da-4bac-ad7b-d42d6d6207ee",
   "metadata": {},
   "outputs": [
    {
     "data": {
      "text/plain": [
       "6000"
      ]
     },
     "execution_count": 58,
     "metadata": {},
     "output_type": "execute_result"
    }
   ],
   "source": [
    "employee.get_salary()"
   ]
  },
  {
   "cell_type": "code",
   "execution_count": 59,
   "id": "cbd0bb71-cdfb-49e0-b1b4-b183789fc955",
   "metadata": {},
   "outputs": [
    {
     "name": "stdout",
     "output_type": "stream",
     "text": [
      "Name:John Doe\n",
      "Salary: 6000\n"
     ]
    }
   ],
   "source": [
    "employee.display_info()"
   ]
  },
  {
   "cell_type": "markdown",
   "id": "11235a33-1e1c-44ac-9f36-2005ca6cfa0f",
   "metadata": {},
   "source": [
    "#### 3.What is abc module in python? Why is it used?"
   ]
  },
  {
   "cell_type": "markdown",
   "id": "b297370a-cf93-46cc-a296-8acf01a711d5",
   "metadata": {},
   "source": [
    "->The abc module in Python stands for \"Abstract Base Classes.\" It provides a mechanism for defining abstract base classes (ABCs) in Python. An abstract base class is a class that cannot be instantiated directly and is meant to serve as a blueprint or interface for its derived classes."
   ]
  },
  {
   "cell_type": "markdown",
   "id": "e5b86146-a5b3-451b-a355-cf602ce16684",
   "metadata": {},
   "source": [
    "->The abc module in Python is used to define abstract base classes (ABCs) and enforce method implementation in derived classes. It promotes code clarity and consistency by establishing a common interface for classes. It provides functions to check and manipulate subclass relationships."
   ]
  },
  {
   "cell_type": "markdown",
   "id": "9a0a9dca-7c25-4f3b-9efc-eebfbb5b3bb4",
   "metadata": {},
   "source": [
    "#### 4.How can we achieve data abstraction?"
   ]
  },
  {
   "cell_type": "markdown",
   "id": "8ef00fc4-b77c-4e05-bf41-042983442332",
   "metadata": {},
   "source": [
    "->Encapsulation: Encapsulation is the process of bundling data and methods together into a single unit, called a class. By encapsulating related data and methods within a class, we can hide the internal details of how data is stored and processed. Only the necessary information and functionality are exposed to the outside world, while the implementation details remain hidden. This allows for data abstraction by providing a simplified interface for interacting with the data.\n",
    "\n",
    "->Access Modifiers: Access modifiers, such as public, private, and protected, control the visibility and accessibility of class members (variables and methods). By using access modifiers, we can specify which data and methods are accessible from outside the class. For achieving data abstraction, it is common to mark the internal implementation details (such as variables) as private and provide public methods to access and modify the data. This ensures that the external code interacts with the data only through the defined public interface, maintaining abstraction.\n",
    "\n",
    "->Getters and Setters: Getters and setters (also known as accessor and mutator methods) are public methods used to retrieve (get) and modify (set) the values of private variables. By providing these methods, we can control the access to the internal data and enforce any necessary validation or logic. Getters and setters enable data abstraction by encapsulating the internal data and allowing controlled access and modification through defined methods.\n",
    "\n",
    "->Abstraction using Abstract Classes or Interfaces: Abstract classes or interfaces provide a way to define abstract data and behavior without specifying the concrete implementation. Abstract classes can have abstract methods that define the required behavior without providing any implementation. By inheriting from abstract classes or implementing interfaces, classes can fulfill the contract defined by the abstract base class or interface, achieving data abstraction by adhering to a common interface while allowing for different underlying implementations"
   ]
  },
  {
   "cell_type": "markdown",
   "id": "75820609-8e9d-47af-ba6d-c1ce3332d496",
   "metadata": {},
   "source": [
    "#### 5.Can we create an instance of an abstract class? Explain your answer."
   ]
  },
  {
   "cell_type": "markdown",
   "id": "25f9e0cb-69e6-41a7-95cf-f79f9ce79950",
   "metadata": {},
   "source": [
    "->No, we cannot create an instance of an abstract class in Python. Abstract classes are incomplete and cannot be instantiated directly. They serve as blueprints or interfaces for derived classes, defining the required methods and behavior. Instances can only be created from concrete classes that inherit from the abstract class and provide the necessary implementations for the abstract methods."
   ]
  }
 ],
 "metadata": {
  "kernelspec": {
   "display_name": "Python 3 (ipykernel)",
   "language": "python",
   "name": "python3"
  },
  "language_info": {
   "codemirror_mode": {
    "name": "ipython",
    "version": 3
   },
   "file_extension": ".py",
   "mimetype": "text/x-python",
   "name": "python",
   "nbconvert_exporter": "python",
   "pygments_lexer": "ipython3",
   "version": "3.10.8"
  }
 },
 "nbformat": 4,
 "nbformat_minor": 5
}
