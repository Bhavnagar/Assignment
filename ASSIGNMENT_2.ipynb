{
 "cells": [
  {
   "cell_type": "markdown",
   "id": "d91ada58-7888-4352-bdb3-fdecf0e4ade3",
   "metadata": {},
   "source": [
    "#### 1.How do you comment code in Python? What are the different types of comments?"
   ]
  },
  {
   "cell_type": "markdown",
   "id": "4ddca85d-0995-49dd-86aa-929d9a7b0013",
   "metadata": {},
   "source": [
    "->There two types of comments in python\n",
    "\n",
    "1.Single line comment:We use the # symbol to write a single-line comment"
   ]
  },
  {
   "cell_type": "code",
   "execution_count": 1,
   "id": "154a8c42-4fc0-4980-93f0-dbb77f9fd472",
   "metadata": {},
   "outputs": [
    {
     "name": "stdout",
     "output_type": "stream",
     "text": [
      "Jaydip\n"
     ]
    }
   ],
   "source": [
    "#create a variable\n",
    "name = \"Jaydip\"\n",
    "print(name)"
   ]
  },
  {
   "cell_type": "markdown",
   "id": "ba92aafc-0c70-4465-9961-047db0564907",
   "metadata": {},
   "source": [
    "2.multi line comment:we can use triple quotes (''' or \"\"\")\n"
   ]
  },
  {
   "cell_type": "code",
   "execution_count": 6,
   "id": "d26fbafa-b194-4906-856b-031f8f02ffb8",
   "metadata": {},
   "outputs": [
    {
     "name": "stdout",
     "output_type": "stream",
     "text": [
      "Jaydip\n"
     ]
    }
   ],
   "source": [
    "'''\n",
    "This is my first class for programming \n",
    "i have leant variable declaration , data type ,string ,int\n",
    "i have seen some of string slicing and indexing\n",
    "'''\n",
    "print(\"Jaydip\")"
   ]
  },
  {
   "cell_type": "code",
   "execution_count": 8,
   "id": "0885cf89-ee63-46ef-9a2e-024d1e0c3eeb",
   "metadata": {},
   "outputs": [
    {
     "data": {
      "text/plain": [
       "int"
      ]
     },
     "execution_count": 8,
     "metadata": {},
     "output_type": "execute_result"
    }
   ],
   "source": [
    "\"\"\"\n",
    "This is my first class for programming \n",
    "i have leant variable declaration , data type ,string ,int\n",
    "i have seen some of string slicing and indexing\n",
    "\"\"\"\n",
    "a = 30\n",
    "type(a)"
   ]
  },
  {
   "cell_type": "markdown",
   "id": "a0cb433b-4ff6-4e14-8661-a389385fb4f9",
   "metadata": {},
   "source": [
    "#### 2. What are variables in Python? How do you declare and assign values to variables?}"
   ]
  },
  {
   "cell_type": "markdown",
   "id": "16e3605d-b4b5-4211-9f32-58b062bd60ff",
   "metadata": {},
   "source": [
    "->A variable name must start with a letter or the underscore character\n",
    "->A variable name cannot start with a number\n",
    "->A variable name can only contain alpha-numeric characters and underscores \n",
    "->Variable names are case-sensitive (age, Age and AGE are three different variables)"
   ]
  },
  {
   "cell_type": "code",
   "execution_count": 3,
   "id": "ab21f4ba-9987-4902-88e7-a78c56efe038",
   "metadata": {},
   "outputs": [],
   "source": [
    "name = \"Jaydip\"    #variable 'name' is assigned the string value Jaydip\n",
    "x = 10            #variable x is assigned the integer value 10"
   ]
  },
  {
   "cell_type": "markdown",
   "id": "4afb31f6-cbd9-48b5-b475-933ba9ddd12d",
   "metadata": {},
   "source": [
    "#### 3.How do you convert one data type to another in Python?"
   ]
  },
  {
   "cell_type": "code",
   "execution_count": 10,
   "id": "28381dcb-1a00-46cf-89c4-d3249a349a55",
   "metadata": {},
   "outputs": [
    {
     "name": "stdout",
     "output_type": "stream",
     "text": [
      "25.0\n",
      "45\n",
      "(50+0j)\n"
     ]
    }
   ],
   "source": [
    "x = 25\n",
    "y = 45.53\n",
    "z = 50 \n",
    "\n",
    "\n",
    "#convert from int to float\n",
    "a = float(x)\n",
    "#convert from float to int\n",
    "b = int(y)\n",
    "#convert from int to complex\n",
    "c = complex(z)\n",
    "print(a)\n",
    "print(b)\n",
    "print(c)"
   ]
  },
  {
   "cell_type": "markdown",
   "id": "a08ceb6f-0caa-4b97-8e6f-0dd0fffee425",
   "metadata": {},
   "source": [
    " #### 4.How do you write and execute a Python script from the command line?"
   ]
  },
  {
   "cell_type": "code",
   "execution_count": null,
   "id": "fac6590e-68c6-45c6-8eb5-cfdae5ee4e83",
   "metadata": {},
   "outputs": [],
   "source": [
    " # Write a code in the IDE or text editor.save it in 'py' format \n",
    " # Open the command prompt using windows CMD\n",
    " # redirect to the directory where the file is saved e.g. cd documents\n",
    " # Run python command. e.g. python assignment2.py  "
   ]
  },
  {
   "cell_type": "markdown",
   "id": "ce600b99-e552-441e-a3aa-8da2f4180e34",
   "metadata": {},
   "source": [
    "#### 5. Given a list my_list = [1, 2, 3, 4, 5], write the code to slice the list and obtain the sub-list [2, 3]."
   ]
  },
  {
   "cell_type": "code",
   "execution_count": 11,
   "id": "21933909-d157-4c30-a164-88fdb0dd3b0f",
   "metadata": {},
   "outputs": [
    {
     "name": "stdout",
     "output_type": "stream",
     "text": [
      "[2, 3]\n"
     ]
    }
   ],
   "source": [
    "my_list = [1,2,3,4,5]\n",
    "sub_list = my_list[1:3]\n",
    "print(sub_list)"
   ]
  },
  {
   "cell_type": "markdown",
   "id": "58fec924-5a37-4d31-8476-22320ba05bef",
   "metadata": {},
   "source": [
    "#### 6.What is a complex number in mathematics, and how is it represented in Python?"
   ]
  },
  {
   "cell_type": "markdown",
   "id": "df7654cb-6074-4286-bcb2-fd802f48f273",
   "metadata": {},
   "source": [
    "->In mathematics, a complex number is a number that consists of a real part and an imaginary part. It is written in the form a + bj, where a represents the real part and b represents the imaginary part"
   ]
  },
  {
   "cell_type": "code",
   "execution_count": 12,
   "id": "fb8876f1-6205-4232-9738-dfa8831945b9",
   "metadata": {},
   "outputs": [],
   "source": [
    "a = 5 + 2j"
   ]
  },
  {
   "cell_type": "code",
   "execution_count": 13,
   "id": "a6b0c4c1-e298-45e2-b06b-659a5f4c4f8c",
   "metadata": {},
   "outputs": [
    {
     "data": {
      "text/plain": [
       "complex"
      ]
     },
     "execution_count": 13,
     "metadata": {},
     "output_type": "execute_result"
    }
   ],
   "source": [
    "type(a)"
   ]
  },
  {
   "cell_type": "markdown",
   "id": "75b09cac-bd8f-4016-841a-8e8770197156",
   "metadata": {},
   "source": [
    " #### 7.What is the correct way to declare a variable named age and assign the value 25 to it?"
   ]
  },
  {
   "cell_type": "code",
   "execution_count": 14,
   "id": "0db17b0d-bf0e-4dfa-ab1f-ff9bd2768fc0",
   "metadata": {},
   "outputs": [],
   "source": [
    "age = 25  #variable named 'age' and assign the value 25 using the assignment operator('=')"
   ]
  },
  {
   "cell_type": "markdown",
   "id": "32057120-fcc5-41fc-a3ab-1b8a504f0fc4",
   "metadata": {},
   "source": [
    "#### 8.Declare a variable named price and assign the value 9.99 to it. What data type does this variable belong to?"
   ]
  },
  {
   "cell_type": "code",
   "execution_count": 15,
   "id": "d1e51a8d-dc61-45fe-a13f-8e779b509c18",
   "metadata": {},
   "outputs": [],
   "source": [
    "price = 9.99"
   ]
  },
  {
   "cell_type": "code",
   "execution_count": 17,
   "id": "fb42244d-e04d-472e-8b0b-05e8442357f2",
   "metadata": {},
   "outputs": [
    {
     "data": {
      "text/plain": [
       "float"
      ]
     },
     "execution_count": 17,
     "metadata": {},
     "output_type": "execute_result"
    }
   ],
   "source": [
    "type(price)"
   ]
  },
  {
   "cell_type": "markdown",
   "id": "451cdc01-0890-45d7-b224-6687922271bc",
   "metadata": {},
   "source": [
    " #### 9.Create a variable named name and assign your full name to it as a string. How would you print the value of this variable?"
   ]
  },
  {
   "cell_type": "code",
   "execution_count": 18,
   "id": "a46395fb-ef2b-438c-91f7-64d4a71ae110",
   "metadata": {},
   "outputs": [
    {
     "name": "stdout",
     "output_type": "stream",
     "text": [
      "Jaydip nakrani\n"
     ]
    }
   ],
   "source": [
    "name =\"Jaydip nakrani\"\n",
    "print(name)"
   ]
  },
  {
   "cell_type": "markdown",
   "id": "d9053d36-6f27-45a8-a9a1-f972f83bf630",
   "metadata": {},
   "source": [
    " #### 10.Given the string \"Hello, World!\", extract the substring \"World\"."
   ]
  },
  {
   "cell_type": "code",
   "execution_count": 34,
   "id": "fccf781a-d766-4df6-9972-d24814ce8dec",
   "metadata": {},
   "outputs": [
    {
     "name": "stdout",
     "output_type": "stream",
     "text": [
      "World\n"
     ]
    }
   ],
   "source": [
    "string = \"Hello, World!\"\n",
    "sub_string=string[7:12]\n",
    "print(sub_string)"
   ]
  },
  {
   "cell_type": "markdown",
   "id": "e29f7754-342b-4321-b24e-f1b306b71d4b",
   "metadata": {},
   "source": [
    "#### 11.Create a variable named \"is_student\" and assign it a boolean value indicating whether you are currently a student or not."
   ]
  },
  {
   "cell_type": "code",
   "execution_count": 7,
   "id": "37c5e5e5-69c8-4e20-a367-34d42b72eb4c",
   "metadata": {},
   "outputs": [
    {
     "name": "stdin",
     "output_type": "stream",
     "text": [
      "Are you currently a student?  yes\n"
     ]
    },
    {
     "name": "stdout",
     "output_type": "stream",
     "text": [
      "currently a student\n"
     ]
    }
   ],
   "source": [
    "is_student = input(\"Are you currently a student? \")\n",
    "if is_student == 'yes':\n",
    "    print(\"currently a student\")\n",
    "else:\n",
    "    print(\"Not a student\")"
   ]
  },
  {
   "cell_type": "code",
   "execution_count": 8,
   "id": "ce1f352a-676e-4904-87db-9eccf1511cfc",
   "metadata": {},
   "outputs": [],
   "source": [
    "is_student = True"
   ]
  },
  {
   "cell_type": "code",
   "execution_count": 9,
   "id": "8dc033f1-bf39-4720-9d34-3b90f17b9481",
   "metadata": {},
   "outputs": [
    {
     "name": "stdout",
     "output_type": "stream",
     "text": [
      "True\n"
     ]
    }
   ],
   "source": [
    "print(is_student)"
   ]
  },
  {
   "cell_type": "code",
   "execution_count": null,
   "id": "0a489d8e-1d71-45e4-b669-931529cb9f6a",
   "metadata": {},
   "outputs": [],
   "source": []
  }
 ],
 "metadata": {
  "kernelspec": {
   "display_name": "Python 3 (ipykernel)",
   "language": "python",
   "name": "python3"
  },
  "language_info": {
   "codemirror_mode": {
    "name": "ipython",
    "version": 3
   },
   "file_extension": ".py",
   "mimetype": "text/x-python",
   "name": "python",
   "nbconvert_exporter": "python",
   "pygments_lexer": "ipython3",
   "version": "3.10.8"
  }
 },
 "nbformat": 4,
 "nbformat_minor": 5
}
