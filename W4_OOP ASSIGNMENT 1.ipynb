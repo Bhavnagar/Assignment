{
 "cells": [
  {
   "cell_type": "markdown",
   "id": "51bc5013-6c9b-4bd6-b99c-3d1ed5b0f3f6",
   "metadata": {},
   "source": [
    "#### 1.Explain Class and Object with respect to Object-Oriented Programming. Give a suitable example."
   ]
  },
  {
   "cell_type": "markdown",
   "id": "c442d600-7e1a-432a-8e97-14cdb0b2ad9e",
   "metadata": {},
   "source": [
    "->In object-oriented programming (OOP), a class is a blueprint or template for creating objects, while an object is an instance of a class. A class defines the properties (attributes) and behaviors (methods) that objects of that class possess.\n",
    "\n",
    "->A class acts as a blueprint that defines the common characteristics and behaviors that objects of that class will have. It encapsulates the data (attributes) and functionality (methods) related to a specific concept or entity. It serves as a reusable template that can be used to create multiple objects of the same type.\n",
    "\n",
    "->An object, on the other hand, is a specific instance or occurrence of a class. It represents a real-world entity or concept that can be manipulated and interacted with. Each object has its own unique set of attributes, which are the specific values assigned to the attributes defined in the class. Objects can also perform actions or invoke methods defined in the class."
   ]
  },
  {
   "cell_type": "code",
   "execution_count": 1,
   "id": "c3fe5510-62e9-404c-b1e1-a4b737e888df",
   "metadata": {},
   "outputs": [],
   "source": [
    "class Employee:\n",
    "    def __init__(self, name, age, salary):\n",
    "        self.name = name\n",
    "        self.age = age\n",
    "        self.salary = salary\n",
    "\n",
    "    def display_info(self):\n",
    "        print(f\"Name: {self.name}\")\n",
    "        print(f\"Age: {self.age}\")\n",
    "        print(f\"Salary: ${self.salary}\")"
   ]
  },
  {
   "cell_type": "code",
   "execution_count": 2,
   "id": "86d318f5-67c2-497a-9af1-ec875fa41e0a",
   "metadata": {},
   "outputs": [],
   "source": [
    "emp = Employee(\"Rahul\",19,15000)"
   ]
  },
  {
   "cell_type": "code",
   "execution_count": 3,
   "id": "8e13b65e-06ee-4195-8272-2a8003bc0461",
   "metadata": {},
   "outputs": [
    {
     "data": {
      "text/plain": [
       "'Rahul'"
      ]
     },
     "execution_count": 3,
     "metadata": {},
     "output_type": "execute_result"
    }
   ],
   "source": [
    "emp.name"
   ]
  },
  {
   "cell_type": "code",
   "execution_count": 4,
   "id": "ba27cea3-b41f-4a41-846c-3d9df823d56c",
   "metadata": {},
   "outputs": [
    {
     "data": {
      "text/plain": [
       "15000"
      ]
     },
     "execution_count": 4,
     "metadata": {},
     "output_type": "execute_result"
    }
   ],
   "source": [
    "emp.salary"
   ]
  },
  {
   "cell_type": "code",
   "execution_count": 6,
   "id": "feca188e-37b1-404c-8086-c82f2a6355ee",
   "metadata": {},
   "outputs": [
    {
     "name": "stdout",
     "output_type": "stream",
     "text": [
      "Name: Rahul\n",
      "Age: 19\n",
      "Salary: $15000\n"
     ]
    }
   ],
   "source": [
    "emp.display_info()"
   ]
  },
  {
   "cell_type": "markdown",
   "id": "b977244f-d352-4f80-bf55-1a1506666842",
   "metadata": {},
   "source": [
    "#### 2.Name the four pillars of OOPs."
   ]
  },
  {
   "cell_type": "markdown",
   "id": "554f83e9-ab1d-4a2d-b88e-9d7ddb872859",
   "metadata": {},
   "source": [
    "1.Encapsulation\n",
    "2.Inheritance\n",
    "3.Polymorphism\n",
    "4.Abstraction"
   ]
  },
  {
   "cell_type": "markdown",
   "id": "4a52eec1-24a0-4377-ac4c-dc95269f4a3b",
   "metadata": {},
   "source": [
    "#### 3.Explain why the __init__() function is used. Give a suitable example."
   ]
  },
  {
   "cell_type": "markdown",
   "id": "78761368-33c9-42de-b075-0a3af66dbb16",
   "metadata": {},
   "source": [
    "->The __init__() function is a special method in Python classes that is automatically called when a new instance of the class is created. It is used to initialize the attributes or properties of the object"
   ]
  },
  {
   "cell_type": "code",
   "execution_count": 3,
   "id": "3de8c5fc-5b0f-4cda-88f4-59643728a1e5",
   "metadata": {},
   "outputs": [],
   "source": [
    "class Book:\n",
    "    def __init__(self, title, author, year):\n",
    "        self.title = title\n",
    "        self.author = author\n",
    "        self.year = year\n",
    "\n",
    "    def display_info(self):\n",
    "        return self.title,self.author,self.year"
   ]
  },
  {
   "cell_type": "code",
   "execution_count": 4,
   "id": "80ead635-27fc-4edb-b8ab-622d8d5b3219",
   "metadata": {},
   "outputs": [],
   "source": [
    "my_book=Book(\"To Kill a Mockingbird\",\"Harper Lee\",1980)"
   ]
  },
  {
   "cell_type": "code",
   "execution_count": 5,
   "id": "e8942e63-d0f6-45f5-b59e-b4ced4309bc7",
   "metadata": {},
   "outputs": [
    {
     "data": {
      "text/plain": [
       "('To Kill a Mockingbird', 'Harper Lee', 1980)"
      ]
     },
     "execution_count": 5,
     "metadata": {},
     "output_type": "execute_result"
    }
   ],
   "source": [
    "my_book.display_info()"
   ]
  },
  {
   "cell_type": "code",
   "execution_count": 6,
   "id": "44a232a8-402a-4b11-bf43-75e09c183355",
   "metadata": {},
   "outputs": [
    {
     "data": {
      "text/plain": [
       "'To Kill a Mockingbird'"
      ]
     },
     "execution_count": 6,
     "metadata": {},
     "output_type": "execute_result"
    }
   ],
   "source": [
    "my_book.title"
   ]
  },
  {
   "cell_type": "code",
   "execution_count": 7,
   "id": "14e6ce97-d5d7-4e30-adaa-eab3f52daa6a",
   "metadata": {},
   "outputs": [
    {
     "data": {
      "text/plain": [
       "'Harper Lee'"
      ]
     },
     "execution_count": 7,
     "metadata": {},
     "output_type": "execute_result"
    }
   ],
   "source": [
    "my_book.author"
   ]
  },
  {
   "cell_type": "markdown",
   "id": "cb092e56-0593-420f-b8b4-0e4f9470824e",
   "metadata": {},
   "source": [
    "#### 4.Why self is used in OOPs?"
   ]
  },
  {
   "cell_type": "markdown",
   "id": "194db5d7-c824-4a0e-b1cd-315418ed9610",
   "metadata": {},
   "source": [
    "->In object-oriented programming (OOP), the self keyword is used as a convention to refer to the instance of the class itself. It acts as a reference to the current object or instance being operated on within a class.\n",
    "\n",
    "->When defining methods within a class, including the __init__() function, the first parameter is typically named self. This parameter represents the instance of the class and allows you to access and manipulate the attributes and methods of that instance.\n",
    "\n",
    "->The self parameter allows you to differentiate between the attributes and methods of the current instance and those of other instances of the same class. It helps in maintaining the state and behavior specific to each object or instance."
   ]
  },
  {
   "cell_type": "markdown",
   "id": "18c60f30-c8f6-4e9f-acab-7e89dba13658",
   "metadata": {},
   "source": [
    "#### 5.What is inheritance? Give an example for each type of inheritance."
   ]
  },
  {
   "cell_type": "markdown",
   "id": "646fddba-4692-47d2-8e2a-d8328bdbbe8e",
   "metadata": {},
   "source": [
    "->Inheritance is a fundamental concept in object-oriented programming (OOP) that allows a class to inherit the properties and behaviors (methods) of another class. The class that inherits is called the derived class or subclass, and the class being inherited from is called the base class or superclass.\n",
    "\n",
    "->Inheritance provides code reusability, as the derived class can use the attributes and methods defined in the base class without having to redefine them. It allows for the creation of a hierarchical relationship between classes, where subclasses can specialize or extend the functionality of the base class."
   ]
  },
  {
   "cell_type": "markdown",
   "id": "f91cfaed-5d10-4411-9816-903cdf398cda",
   "metadata": {},
   "source": [
    "#### 1.Single Inheritance:\n",
    "\n",
    "->In single inheritance, a class inherits from a single base class."
   ]
  },
  {
   "cell_type": "code",
   "execution_count": 8,
   "id": "040df363-d6ff-4a80-ac23-b0fc561c0808",
   "metadata": {},
   "outputs": [],
   "source": [
    "class Animal:\n",
    "    def speak(self):\n",
    "        print(\"Animal speaks.\")\n",
    "\n",
    "class Dog(Animal):\n",
    "    def bark(self):\n",
    "        print(\"Dog barks.\")"
   ]
  },
  {
   "cell_type": "code",
   "execution_count": 9,
   "id": "33757a7b-1430-42ae-b508-cdc7858edc2e",
   "metadata": {},
   "outputs": [],
   "source": [
    "my_dog=Dog()"
   ]
  },
  {
   "cell_type": "code",
   "execution_count": 10,
   "id": "c6fb6dcc-7041-4621-9b78-ec3cd164e279",
   "metadata": {},
   "outputs": [
    {
     "name": "stdout",
     "output_type": "stream",
     "text": [
      "Animal speaks.\n"
     ]
    }
   ],
   "source": [
    "my_dog.speak()"
   ]
  },
  {
   "cell_type": "code",
   "execution_count": 11,
   "id": "b37a2434-ea25-4ee5-82d0-b21e7a96393d",
   "metadata": {},
   "outputs": [
    {
     "name": "stdout",
     "output_type": "stream",
     "text": [
      "Dog barks.\n"
     ]
    }
   ],
   "source": [
    "my_dog.bark()"
   ]
  },
  {
   "cell_type": "markdown",
   "id": "c050cab4-509c-4f59-80ca-558324add17f",
   "metadata": {},
   "source": [
    "#### Multiple Inheritance:\n",
    "->Multiple inheritance allows a class to inherit from multiple base classes. The derived class inherits the attributes and methods from all the base classes."
   ]
  },
  {
   "cell_type": "code",
   "execution_count": 12,
   "id": "9682590e-5d19-4baa-a94a-54aa7047675a",
   "metadata": {},
   "outputs": [],
   "source": [
    "class Animal:\n",
    "    def speak(self):\n",
    "        print(\"Animal speaks.\")\n",
    "\n",
    "class Mammal:\n",
    "    def feed_milk(self):\n",
    "        print(\"Mammal feeds milk.\")\n",
    "\n",
    "class Dog(Animal, Mammal):\n",
    "    def bark(self):\n",
    "        print(\"Dog barks.\")"
   ]
  },
  {
   "cell_type": "code",
   "execution_count": 13,
   "id": "5860248f-a4d7-441e-92b4-96839377c3e4",
   "metadata": {},
   "outputs": [],
   "source": [
    "my_dog=Dog()"
   ]
  },
  {
   "cell_type": "code",
   "execution_count": 14,
   "id": "aa36172c-984a-40a3-89cb-5b1f0fe65dd9",
   "metadata": {},
   "outputs": [
    {
     "name": "stdout",
     "output_type": "stream",
     "text": [
      "Animal speaks.\n"
     ]
    }
   ],
   "source": [
    "my_dog.speak()"
   ]
  },
  {
   "cell_type": "code",
   "execution_count": 15,
   "id": "6ac2c1d8-2d02-423f-bbfc-55fb5c8e160e",
   "metadata": {},
   "outputs": [
    {
     "name": "stdout",
     "output_type": "stream",
     "text": [
      "Mammal feeds milk.\n"
     ]
    }
   ],
   "source": [
    "my_dog.feed_milk()"
   ]
  },
  {
   "cell_type": "code",
   "execution_count": 16,
   "id": "f4cb1311-bb39-4f7f-aeca-52cbdfd269aa",
   "metadata": {},
   "outputs": [
    {
     "name": "stdout",
     "output_type": "stream",
     "text": [
      "Dog barks.\n"
     ]
    }
   ],
   "source": [
    "my_dog.bark()"
   ]
  },
  {
   "cell_type": "markdown",
   "id": "1ac7058a-fa15-4dde-8657-b1b8588f509a",
   "metadata": {},
   "source": [
    "#### Multilevel Inheritance:\n",
    "->Multilevel inheritance involves inheriting from a derived class, creating a hierarchical structure of classes."
   ]
  },
  {
   "cell_type": "code",
   "execution_count": 17,
   "id": "15f0eb20-3fee-4272-9fd6-f937d025c375",
   "metadata": {},
   "outputs": [],
   "source": [
    "class Animal:\n",
    "    def speak(self):\n",
    "        print(\"Animal speaks.\")\n",
    "\n",
    "class Mammal(Animal):\n",
    "    def feed_milk(self):\n",
    "        print(\"Mammal feeds milk.\")\n",
    "\n",
    "class Dog(Mammal):\n",
    "    def bark(self):\n",
    "        print(\"Dog barks.\")"
   ]
  },
  {
   "cell_type": "code",
   "execution_count": 18,
   "id": "941eb24c-4abf-471f-b60d-da6658186950",
   "metadata": {},
   "outputs": [],
   "source": [
    "my_dog = Dog()"
   ]
  },
  {
   "cell_type": "code",
   "execution_count": 19,
   "id": "19ac449a-8738-4eec-bb6f-ba759916d53e",
   "metadata": {},
   "outputs": [
    {
     "name": "stdout",
     "output_type": "stream",
     "text": [
      "Animal speaks.\n"
     ]
    }
   ],
   "source": [
    "my_dog.speak() "
   ]
  },
  {
   "cell_type": "code",
   "execution_count": 20,
   "id": "79ce09f9-8acc-49c3-b894-2e7e671afd2b",
   "metadata": {},
   "outputs": [
    {
     "name": "stdout",
     "output_type": "stream",
     "text": [
      "Dog barks.\n"
     ]
    }
   ],
   "source": [
    "my_dog.bark()"
   ]
  },
  {
   "cell_type": "markdown",
   "id": "a28cd285-3d2a-4ea6-aae2-276b58e4f253",
   "metadata": {},
   "source": [
    "#### Hierarchical Inheritance:\n",
    "->Hierarchical inheritance involves multiple derived classes inheriting from a single base class."
   ]
  },
  {
   "cell_type": "code",
   "execution_count": 21,
   "id": "58b47506-b587-464f-85fc-00b147516b12",
   "metadata": {},
   "outputs": [],
   "source": [
    "class Animal:\n",
    "    def speak(self):\n",
    "        print(\"Animal speaks.\")\n",
    "\n",
    "class Cat(Animal):\n",
    "    def meow(self):\n",
    "        print(\"Cat meows.\")\n",
    "\n",
    "class Dog(Animal):\n",
    "    def bark(self):\n",
    "        print(\"Dog barks.\")"
   ]
  },
  {
   "cell_type": "code",
   "execution_count": 22,
   "id": "c4f7407b-dc12-426a-adc1-12f107a5b5f2",
   "metadata": {},
   "outputs": [],
   "source": [
    "my_cat = Cat()"
   ]
  },
  {
   "cell_type": "code",
   "execution_count": 23,
   "id": "083351e2-4526-41e9-b145-3e6af33e32c4",
   "metadata": {},
   "outputs": [
    {
     "name": "stdout",
     "output_type": "stream",
     "text": [
      "Animal speaks.\n"
     ]
    }
   ],
   "source": [
    "my_cat.speak()"
   ]
  },
  {
   "cell_type": "code",
   "execution_count": 24,
   "id": "fdc058c4-5b68-4bb0-be25-c35737c81a19",
   "metadata": {},
   "outputs": [
    {
     "name": "stdout",
     "output_type": "stream",
     "text": [
      "Cat meows.\n"
     ]
    }
   ],
   "source": [
    "my_cat.meow()"
   ]
  },
  {
   "cell_type": "code",
   "execution_count": 25,
   "id": "91166179-cade-497d-ae65-211326c17373",
   "metadata": {},
   "outputs": [],
   "source": [
    "my_dog = Dog()"
   ]
  },
  {
   "cell_type": "code",
   "execution_count": 26,
   "id": "fb86bac1-d099-4081-978f-3c486f5030c5",
   "metadata": {},
   "outputs": [
    {
     "name": "stdout",
     "output_type": "stream",
     "text": [
      "Animal speaks.\n"
     ]
    }
   ],
   "source": [
    "my_dog.speak() "
   ]
  },
  {
   "cell_type": "code",
   "execution_count": 27,
   "id": "fc258d3e-f9b0-49e0-b81d-598b08abc9f1",
   "metadata": {},
   "outputs": [
    {
     "name": "stdout",
     "output_type": "stream",
     "text": [
      "Dog barks.\n"
     ]
    }
   ],
   "source": [
    "my_dog.bark() "
   ]
  },
  {
   "cell_type": "code",
   "execution_count": null,
   "id": "f5f4a7da-de5b-4309-a79f-66abb905022e",
   "metadata": {},
   "outputs": [],
   "source": []
  }
 ],
 "metadata": {
  "kernelspec": {
   "display_name": "Python 3 (ipykernel)",
   "language": "python",
   "name": "python3"
  },
  "language_info": {
   "codemirror_mode": {
    "name": "ipython",
    "version": 3
   },
   "file_extension": ".py",
   "mimetype": "text/x-python",
   "name": "python",
   "nbconvert_exporter": "python",
   "pygments_lexer": "ipython3",
   "version": "3.10.8"
  }
 },
 "nbformat": 4,
 "nbformat_minor": 5
}
