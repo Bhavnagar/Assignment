{
 "cells": [
  {
   "cell_type": "markdown",
   "id": "ad412cc5-95e7-4918-bfea-801715bdf647",
   "metadata": {},
   "source": [
    "Q1. Create one variable containing following type of data:\n",
    "(i)\tstring\n",
    "(ii)\tlist\n",
    "(iii)\tfloat\n",
    "(iv)\ttuple"
   ]
  },
  {
   "cell_type": "code",
   "execution_count": 4,
   "id": "b9bd1be6-03ad-4c77-b875-db6a0219fbdd",
   "metadata": {},
   "outputs": [],
   "source": [
    "#String\n",
    "a=\"Jaydip\""
   ]
  },
  {
   "cell_type": "code",
   "execution_count": 5,
   "id": "7458248c-b949-42d3-a954-e1a0360977aa",
   "metadata": {},
   "outputs": [
    {
     "data": {
      "text/plain": [
       "'Jaydip'"
      ]
     },
     "execution_count": 5,
     "metadata": {},
     "output_type": "execute_result"
    }
   ],
   "source": [
    "a"
   ]
  },
  {
   "cell_type": "code",
   "execution_count": 8,
   "id": "e29820cc-930a-4ac7-a001-ba11ff12fb06",
   "metadata": {},
   "outputs": [
    {
     "data": {
      "text/plain": [
       "str"
      ]
     },
     "execution_count": 8,
     "metadata": {},
     "output_type": "execute_result"
    }
   ],
   "source": [
    "type(a)"
   ]
  },
  {
   "cell_type": "code",
   "execution_count": 11,
   "id": "337a1422-b8cf-4a40-b37a-30bfb75b15d6",
   "metadata": {},
   "outputs": [],
   "source": [
    "#list\n",
    "List=[1,5,8,6,9,7,3,4,]"
   ]
  },
  {
   "cell_type": "code",
   "execution_count": 12,
   "id": "a8a4e3a7-d02b-4d91-b886-4eb6ec3f49c4",
   "metadata": {},
   "outputs": [
    {
     "data": {
      "text/plain": [
       "[1, 5, 8, 6, 9, 7, 3, 4]"
      ]
     },
     "execution_count": 12,
     "metadata": {},
     "output_type": "execute_result"
    }
   ],
   "source": [
    "List"
   ]
  },
  {
   "cell_type": "code",
   "execution_count": 13,
   "id": "2636e63c-1be5-4b0f-9015-74fdf37efaeb",
   "metadata": {},
   "outputs": [
    {
     "data": {
      "text/plain": [
       "list"
      ]
     },
     "execution_count": 13,
     "metadata": {},
     "output_type": "execute_result"
    }
   ],
   "source": [
    "type(List)"
   ]
  },
  {
   "cell_type": "code",
   "execution_count": null,
   "id": "a397fc1f-4705-421c-a635-28a538b0ee7b",
   "metadata": {},
   "outputs": [],
   "source": [
    "#float\n",
    "f = 25.20"
   ]
  },
  {
   "cell_type": "code",
   "execution_count": 18,
   "id": "cf4f3cfd-9fa1-4c95-a853-e96924641517",
   "metadata": {},
   "outputs": [
    {
     "data": {
      "text/plain": [
       "25.2"
      ]
     },
     "execution_count": 18,
     "metadata": {},
     "output_type": "execute_result"
    }
   ],
   "source": [
    "f"
   ]
  },
  {
   "cell_type": "code",
   "execution_count": 19,
   "id": "9a412871-25ca-42bf-90fc-e234fcc35ae0",
   "metadata": {},
   "outputs": [
    {
     "data": {
      "text/plain": [
       "float"
      ]
     },
     "execution_count": 19,
     "metadata": {},
     "output_type": "execute_result"
    }
   ],
   "source": [
    "type(f)"
   ]
  },
  {
   "cell_type": "code",
   "execution_count": 20,
   "id": "107b7a58-dc13-4fef-a36e-f0833901f987",
   "metadata": {},
   "outputs": [],
   "source": [
    "#tuple\n",
    "x = (\"apple\", \"banana\", \"mango\")"
   ]
  },
  {
   "cell_type": "code",
   "execution_count": 21,
   "id": "28aea7bd-28f6-4e51-8d33-4f41763887b5",
   "metadata": {},
   "outputs": [
    {
     "data": {
      "text/plain": [
       "('apple', 'banana', 'mango')"
      ]
     },
     "execution_count": 21,
     "metadata": {},
     "output_type": "execute_result"
    }
   ],
   "source": [
    "x"
   ]
  },
  {
   "cell_type": "code",
   "execution_count": 22,
   "id": "4d2a7321-2faa-4790-b4f5-b1a63afc58fc",
   "metadata": {},
   "outputs": [
    {
     "data": {
      "text/plain": [
       "tuple"
      ]
     },
     "execution_count": 22,
     "metadata": {},
     "output_type": "execute_result"
    }
   ],
   "source": [
    "type(x)"
   ]
  },
  {
   "cell_type": "markdown",
   "id": "5fe795c5-8dc0-4f58-91de-3a83cbd88940",
   "metadata": {},
   "source": [
    "Q2. Given are some following variables containing data:\n",
    "(i)\tvar1 = ‘ ‘\n",
    "(ii)\tvar2 = ‘[ DS , ML , Python]’\n",
    "(iii)\tvar3 = [ ‘DS’ , ’ML’ , ‘Python’ ]\n",
    "(iv)\tvar4 = 1.\n",
    " What will be the data type of the above given variable"
   ]
  },
  {
   "cell_type": "code",
   "execution_count": 25,
   "id": "ae396ba3-2dbb-48f9-b20f-e8c1ddbd99e1",
   "metadata": {},
   "outputs": [],
   "source": [
    "#(i)\n",
    "var1 = ' '"
   ]
  },
  {
   "cell_type": "code",
   "execution_count": 26,
   "id": "fcd9b6eb-597e-4df5-a767-3223234212ae",
   "metadata": {},
   "outputs": [
    {
     "data": {
      "text/plain": [
       "str"
      ]
     },
     "execution_count": 26,
     "metadata": {},
     "output_type": "execute_result"
    }
   ],
   "source": [
    "type(var1)"
   ]
  },
  {
   "cell_type": "code",
   "execution_count": 28,
   "id": "9af178fc-b9ea-4d27-9981-46bf9886742e",
   "metadata": {},
   "outputs": [],
   "source": [
    "#(ii)\t\n",
    "var2 = '[ DS , ML , Python]'"
   ]
  },
  {
   "cell_type": "code",
   "execution_count": 29,
   "id": "40b13d29-11db-4592-971e-7118d456920f",
   "metadata": {},
   "outputs": [
    {
     "data": {
      "text/plain": [
       "str"
      ]
     },
     "execution_count": 29,
     "metadata": {},
     "output_type": "execute_result"
    }
   ],
   "source": [
    "type(var2)"
   ]
  },
  {
   "cell_type": "code",
   "execution_count": 27,
   "id": "731bf60f-7f5a-426b-8361-735e4b829eb4",
   "metadata": {},
   "outputs": [],
   "source": [
    "#(iii)\n",
    "var3 = [ 'DS','ML','Python']"
   ]
  },
  {
   "cell_type": "code",
   "execution_count": 28,
   "id": "33db310f-2d51-4dff-a677-275f5a41bc4e",
   "metadata": {},
   "outputs": [
    {
     "data": {
      "text/plain": [
       "list"
      ]
     },
     "execution_count": 28,
     "metadata": {},
     "output_type": "execute_result"
    }
   ],
   "source": [
    "type(var3)"
   ]
  },
  {
   "cell_type": "code",
   "execution_count": 32,
   "id": "04d3c627-063e-460c-8272-13a37f62eb8b",
   "metadata": {},
   "outputs": [],
   "source": [
    "#(iv)\n",
    "var4 = 1"
   ]
  },
  {
   "cell_type": "code",
   "execution_count": 33,
   "id": "b826e999-d510-4bfc-ba1c-1d352f976ba6",
   "metadata": {},
   "outputs": [
    {
     "data": {
      "text/plain": [
       "int"
      ]
     },
     "execution_count": 33,
     "metadata": {},
     "output_type": "execute_result"
    }
   ],
   "source": [
    "type(var4)"
   ]
  },
  {
   "cell_type": "markdown",
   "id": "eb05e143-7454-43c7-a85e-18f2575e4aeb",
   "metadata": {},
   "source": [
    "Q3. Explain the use of the following operators using an example:\n",
    "(i)\t/\n",
    "(ii)% \n",
    "(iii)//\n",
    "(iv)**"
   ]
  },
  {
   "cell_type": "code",
   "execution_count": 34,
   "id": "134a490b-b35a-47de-bc20-7fad8fcfe03f",
   "metadata": {},
   "outputs": [
    {
     "data": {
      "text/plain": [
       "0.75"
      ]
     },
     "execution_count": 34,
     "metadata": {},
     "output_type": "execute_result"
    }
   ],
   "source": [
    "3 / 4      #Division"
   ]
  },
  {
   "cell_type": "code",
   "execution_count": 35,
   "id": "06907679-2c6a-4ae1-9aa1-76aa4843aa31",
   "metadata": {},
   "outputs": [
    {
     "data": {
      "text/plain": [
       "4"
      ]
     },
     "execution_count": 35,
     "metadata": {},
     "output_type": "execute_result"
    }
   ],
   "source": [
    "4 % 5    #Modulus"
   ]
  },
  {
   "cell_type": "code",
   "execution_count": 36,
   "id": "ae301e5d-c8e5-4673-8bee-22720a072f4f",
   "metadata": {},
   "outputs": [
    {
     "data": {
      "text/plain": [
       "2"
      ]
     },
     "execution_count": 36,
     "metadata": {},
     "output_type": "execute_result"
    }
   ],
   "source": [
    "12 // 5    #Floor division"
   ]
  },
  {
   "cell_type": "code",
   "execution_count": 37,
   "id": "990d8428-7ec9-459a-8263-577fd6877af1",
   "metadata": {},
   "outputs": [
    {
     "data": {
      "text/plain": [
       "125"
      ]
     },
     "execution_count": 37,
     "metadata": {},
     "output_type": "execute_result"
    }
   ],
   "source": [
    "5 ** 3     #Exponentiation "
   ]
  },
  {
   "cell_type": "markdown",
   "id": "3077787c-f4f3-48e8-9655-be5eea787724",
   "metadata": {},
   "source": [
    "Q4. Create a list of length 10 of your choice containing multiple types of data. Using for loop print the \n",
    "element and its data type."
   ]
  },
  {
   "cell_type": "code",
   "execution_count": 3,
   "id": "db53c8eb-1fde-4a99-90b2-fc32c3edeb30",
   "metadata": {},
   "outputs": [
    {
     "name": "stdout",
     "output_type": "stream",
     "text": [
      "2\n",
      "<class 'int'>\n",
      "4\n",
      "<class 'int'>\n",
      "jay\n",
      "<class 'str'>\n",
      "20.32\n",
      "<class 'float'>\n",
      "python\n",
      "<class 'str'>\n",
      "20\n",
      "<class 'int'>\n",
      "25.45\n",
      "<class 'float'>\n",
      "50\n",
      "<class 'int'>\n",
      "True\n",
      "<class 'bool'>\n",
      "2j\n",
      "<class 'complex'>\n"
     ]
    }
   ],
   "source": [
    "list =[2,4,\"jay\",20.32,\"python\",20,25.45,50,True,2j]\n",
    "for i in list:\n",
    "    print(i)\n",
    "    print(type(i))"
   ]
  },
  {
   "cell_type": "markdown",
   "id": "ceea3353-5d78-4493-baff-fa6132299017",
   "metadata": {},
   "source": [
    "Q5. Using a while loop, verify if the number A is purely divisible by number B and if so then how many \n",
    "times it can be divisible."
   ]
  },
  {
   "cell_type": "code",
   "execution_count": 6,
   "id": "4f808131-de27-40b4-a06f-9de6ee5c02f0",
   "metadata": {},
   "outputs": [
    {
     "name": "stdin",
     "output_type": "stream",
     "text": [
      "Enter the value of A:  1000\n",
      "Enter the value of B:  20\n"
     ]
    },
    {
     "name": "stdout",
     "output_type": "stream",
     "text": [
      "50 is divisible by 20 ,1 times divisible\n"
     ]
    }
   ],
   "source": [
    "A = int(input(\"Enter the value of A: \"))\n",
    "B = int(input(\"Enter the value of B: \"))\n",
    "count = 0\n",
    "while A % B == 0:\n",
    "    A = A // B\n",
    "    count += 1\n",
    "if count > 0:\n",
    "    print(f\"{A} is purely divisible by {B} ,{count} times divisible\")\n",
    "else:\n",
    "    print(f\"{A} is not divisible by {B}\")"
   ]
  },
  {
   "cell_type": "markdown",
   "id": "907c2fcb-a5f5-4aeb-b535-c9dbd40e7d53",
   "metadata": {},
   "source": [
    "Q6. Create a list containing 25 int type data. Using for loop and if-else condition print if the element is \n",
    "divisible by 3 or not"
   ]
  },
  {
   "cell_type": "code",
   "execution_count": 18,
   "id": "2a18cdd1-3cdb-4a37-8621-51864f6f80fa",
   "metadata": {},
   "outputs": [
    {
     "name": "stdout",
     "output_type": "stream",
     "text": [
      "2 is not divisible by 3 \n",
      "4 is not divisible by 3 \n",
      "6 is divisible by 3 \n",
      "8 is not divisible by 3 \n",
      "11 is not divisible by 3 \n",
      "15 is divisible by 3 \n",
      "25 is not divisible by 3 \n",
      "28 is not divisible by 3 \n",
      "30 is divisible by 3 \n",
      "31 is not divisible by 3 \n",
      "32 is not divisible by 3 \n",
      "33 is divisible by 3 \n",
      "45 is divisible by 3 \n",
      "50 is not divisible by 3 \n",
      "51 is divisible by 3 \n",
      "52 is not divisible by 3 \n",
      "53 is not divisible by 3 \n",
      "54 is divisible by 3 \n",
      "55 is not divisible by 3 \n",
      "80 is not divisible by 3 \n",
      "90 is divisible by 3 \n",
      "91 is not divisible by 3 \n",
      "92 is not divisible by 3 \n",
      "95 is not divisible by 3 \n",
      "99 is divisible by 3 \n"
     ]
    }
   ],
   "source": [
    "list =[2,4,6,8,11,15,25,28,30,31,32,33,45,50,51,52,53,54,55,80,90,91,92,95,99]\n",
    "for i in list:\n",
    "    if i % 3 == 0:\n",
    "        print(f\"{i} is divisible by 3 \")\n",
    "    else:\n",
    "        print(f\"{i} is not divisible by 3 \")\n",
    "    "
   ]
  },
  {
   "cell_type": "markdown",
   "id": "ef7d0442-30dc-4ada-bb3c-4988a0b344ae",
   "metadata": {},
   "source": [
    "Q7. What do you understand about mutable and immutable data types? Give examples for both showing \n",
    "this property."
   ]
  },
  {
   "cell_type": "markdown",
   "id": "a619fb9c-998b-4739-a3f3-78eed6ff428e",
   "metadata": {},
   "source": [
    "=>Mutable data types in python are those which can be changed, once created and immutable data type are those which cannot be changed.\n",
    "  Example: mutable data types are list, dictionary, set\n",
    "           Immutable data types are int, float, string, bool, tuple."
   ]
  },
  {
   "cell_type": "markdown",
   "id": "db3ea45d-3cd0-4dcb-8c1f-196a68f6b524",
   "metadata": {},
   "source": [
    "#imutable Example:String"
   ]
  },
  {
   "cell_type": "code",
   "execution_count": 20,
   "id": "0e1d1fb9-ae55-4826-82b8-dcf35572ed96",
   "metadata": {},
   "outputs": [],
   "source": [
    "s=\"Jaydip\""
   ]
  },
  {
   "cell_type": "code",
   "execution_count": 21,
   "id": "36b29b72-c5fc-4855-81ff-420c4090949c",
   "metadata": {},
   "outputs": [
    {
     "data": {
      "text/plain": [
       "'Jaydip'"
      ]
     },
     "execution_count": 21,
     "metadata": {},
     "output_type": "execute_result"
    }
   ],
   "source": [
    "s"
   ]
  },
  {
   "cell_type": "code",
   "execution_count": 22,
   "id": "235d3c57-b7a9-4b99-8674-617238839fe0",
   "metadata": {},
   "outputs": [
    {
     "data": {
      "text/plain": [
       "'J'"
      ]
     },
     "execution_count": 22,
     "metadata": {},
     "output_type": "execute_result"
    }
   ],
   "source": [
    "s[0]"
   ]
  },
  {
   "cell_type": "code",
   "execution_count": 23,
   "id": "9979f266-1e1c-4cc5-b49f-2b986de9eeb5",
   "metadata": {},
   "outputs": [
    {
     "data": {
      "text/plain": [
       "'y'"
      ]
     },
     "execution_count": 23,
     "metadata": {},
     "output_type": "execute_result"
    }
   ],
   "source": [
    "s[2]"
   ]
  },
  {
   "cell_type": "code",
   "execution_count": 24,
   "id": "b0fb95f4-5fee-413b-8b95-5a7494e0692d",
   "metadata": {},
   "outputs": [
    {
     "ename": "TypeError",
     "evalue": "'str' object does not support item assignment",
     "output_type": "error",
     "traceback": [
      "\u001b[0;31m---------------------------------------------------------------------------\u001b[0m",
      "\u001b[0;31mTypeError\u001b[0m                                 Traceback (most recent call last)",
      "Cell \u001b[0;32mIn[24], line 1\u001b[0m\n\u001b[0;32m----> 1\u001b[0m \u001b[43ms\u001b[49m\u001b[43m[\u001b[49m\u001b[38;5;241;43m2\u001b[39;49m\u001b[43m]\u001b[49m\u001b[38;5;241m=\u001b[39m\u001b[38;5;124m'\u001b[39m\u001b[38;5;124mb\u001b[39m\u001b[38;5;124m'\u001b[39m\n",
      "\u001b[0;31mTypeError\u001b[0m: 'str' object does not support item assignment"
     ]
    }
   ],
   "source": [
    "s[2]='b'"
   ]
  },
  {
   "cell_type": "markdown",
   "id": "e4e7521d-4753-45b6-8738-d3dada3be717",
   "metadata": {},
   "source": [
    "#mutable Example:list"
   ]
  },
  {
   "cell_type": "code",
   "execution_count": 22,
   "id": "c9e1b67f-a537-4642-83e4-7dd960118731",
   "metadata": {},
   "outputs": [],
   "source": [
    "l=[2,3,4,5,6,\"jay\",3+7j,True,False,45.33]"
   ]
  },
  {
   "cell_type": "code",
   "execution_count": 23,
   "id": "dae90da7-27a9-42c2-8a78-cba85ca5c4e1",
   "metadata": {},
   "outputs": [
    {
     "data": {
      "text/plain": [
       "2"
      ]
     },
     "execution_count": 23,
     "metadata": {},
     "output_type": "execute_result"
    }
   ],
   "source": [
    "l[0]"
   ]
  },
  {
   "cell_type": "code",
   "execution_count": 24,
   "id": "57320e0b-0024-4b4e-a80f-141ec0f60cbc",
   "metadata": {},
   "outputs": [
    {
     "data": {
      "text/plain": [
       "3"
      ]
     },
     "execution_count": 24,
     "metadata": {},
     "output_type": "execute_result"
    }
   ],
   "source": [
    "l[1]"
   ]
  },
  {
   "cell_type": "code",
   "execution_count": 25,
   "id": "617a565c-fa3c-4a51-a3aa-4d3db91bef62",
   "metadata": {},
   "outputs": [],
   "source": [
    "l[1]=20"
   ]
  },
  {
   "cell_type": "code",
   "execution_count": 26,
   "id": "167ef9c6-b93a-4be0-b53a-699ca3602211",
   "metadata": {},
   "outputs": [
    {
     "data": {
      "text/plain": [
       "[2, 20, 4, 5, 6, 'jay', (3+7j), True, False, 45.33]"
      ]
     },
     "execution_count": 26,
     "metadata": {},
     "output_type": "execute_result"
    }
   ],
   "source": [
    "l"
   ]
  },
  {
   "cell_type": "code",
   "execution_count": 29,
   "id": "d9db5c12-bba5-4500-9b5f-0478a571f6de",
   "metadata": {},
   "outputs": [],
   "source": [
    "l[2]=12"
   ]
  },
  {
   "cell_type": "code",
   "execution_count": 31,
   "id": "85c4d22e-2365-4a72-9520-6fc4c6d78f94",
   "metadata": {},
   "outputs": [
    {
     "data": {
      "text/plain": [
       "[2, 20, 12, 5, 6, 'jay', (3+7j), True, False, 45.33]"
      ]
     },
     "execution_count": 31,
     "metadata": {},
     "output_type": "execute_result"
    }
   ],
   "source": [
    "l"
   ]
  }
 ],
 "metadata": {
  "kernelspec": {
   "display_name": "Python 3 (ipykernel)",
   "language": "python",
   "name": "python3"
  },
  "language_info": {
   "codemirror_mode": {
    "name": "ipython",
    "version": 3
   },
   "file_extension": ".py",
   "mimetype": "text/x-python",
   "name": "python",
   "nbconvert_exporter": "python",
   "pygments_lexer": "ipython3",
   "version": "3.10.8"
  }
 },
 "nbformat": 4,
 "nbformat_minor": 5
}
