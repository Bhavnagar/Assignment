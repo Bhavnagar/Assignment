{
 "cells": [
  {
   "cell_type": "markdown",
   "id": "b2782679-3ff0-416b-8345-aee3b4faecb9",
   "metadata": {},
   "source": [
    "#### 1.Create a python program to sort the given list of tuples based on integer value using a lambda function. \n",
    "#### [('Sachin Tendulkar', 34357), ('Ricky Ponting', 27483), ('Jack Kallis', 25534), ('Virat Kohli', 24936)]"
   ]
  },
  {
   "cell_type": "code",
   "execution_count": 1,
   "id": "96531250-24e4-4e7c-af7f-075546483345",
   "metadata": {},
   "outputs": [
    {
     "name": "stdout",
     "output_type": "stream",
     "text": [
      "[('Virat Kohli', 24936), ('Jack Kallis', 25534), ('Ricky Ponting', 27483), ('Sachin Tendulkar', 34357)]\n"
     ]
    }
   ],
   "source": [
    "data = [('Sachin Tendulkar', 34357), ('Ricky Ponting', 27483), ('Jack Kallis', 25534), ('Virat Kohli', 24936)]\n",
    "data.sort(key=lambda x : x[1])\n",
    "print(data)"
   ]
  },
  {
   "cell_type": "markdown",
   "id": "6400b3c4-a52e-49f8-bb60-21c4d5452065",
   "metadata": {},
   "source": [
    "#### 2.Write a Python Program to find the squares of all the numbers in the given list of integers using lambda and map functions.\n",
    "#### [1, 2, 3, 4, 5, 6, 7, 8, 9, 10]"
   ]
  },
  {
   "cell_type": "code",
   "execution_count": 3,
   "id": "498943ad-5167-4a99-9e5d-e06a0ce5ff3a",
   "metadata": {},
   "outputs": [
    {
     "name": "stdout",
     "output_type": "stream",
     "text": [
      "[1, 4, 9, 16, 25, 36, 49, 64, 81, 100]\n"
     ]
    }
   ],
   "source": [
    "l=[1, 2, 3, 4, 5, 6, 7, 8, 9, 10]\n",
    "square_numbers = list(map(lambda x: x**2,l))\n",
    "print(square_numbers)"
   ]
  },
  {
   "cell_type": "markdown",
   "id": "36695d0d-7187-4091-9706-7f1f7f2bdaf5",
   "metadata": {},
   "source": [
    "#### 3. Write a python program to convert the given list of integers into a tuple of strings. Use map and lambda functions.\n",
    "#### Given String: [1, 2, 3, 4, 5, 6, 7, 8, 9, 10]\n",
    "#### Expected output: ('1', '2', '3', '4', '5', '6', '7', '8', '9', '10')"
   ]
  },
  {
   "cell_type": "code",
   "execution_count": 12,
   "id": "bed35307-8712-4f4d-839f-27861f5dd7c0",
   "metadata": {},
   "outputs": [
    {
     "name": "stdout",
     "output_type": "stream",
     "text": [
      "('1', '2', '3', '4', '5', '6', '7', '8', '9', '10')\n"
     ]
    }
   ],
   "source": [
    "numbers: [1, 2, 3, 4, 5, 6, 7, 8, 9, 10]\n",
    "\n",
    "string_tuple = tuple(map(lambda x :str(x),numbers))\n",
    "print(string_tuple)"
   ]
  },
  {
   "cell_type": "markdown",
   "id": "ffad053d-a466-42fd-856c-bc65f19bd15e",
   "metadata": {},
   "source": [
    "#### 4.Write a python program using reduce function to compute the product of a list containing numbers from 1 to 25"
   ]
  },
  {
   "cell_type": "code",
   "execution_count": 15,
   "id": "3387d323-7da1-4d27-aa02-1ecb5caf193b",
   "metadata": {},
   "outputs": [
    {
     "name": "stdout",
     "output_type": "stream",
     "text": [
      "15511210043330985984000000\n"
     ]
    }
   ],
   "source": [
    "from functools import reduce \n",
    "\n",
    "numbers = list(range(1,26))\n",
    "product = reduce(lambda x,y : x * y ,numbers)\n",
    "print(product)"
   ]
  },
  {
   "cell_type": "markdown",
   "id": "986a476a-f0c4-4ac5-a6d0-733163ff876a",
   "metadata": {},
   "source": [
    "#### 5.Write a python program to filter the numbers in a given list that are divisible by 2 and 3 using the filter function.\n",
    "#### [2, 3, 6, 9, 27, 60, 90, 120, 55, 46]"
   ]
  },
  {
   "cell_type": "code",
   "execution_count": 18,
   "id": "0366643a-7f37-4f57-9622-59be0f4aa31b",
   "metadata": {},
   "outputs": [
    {
     "name": "stdout",
     "output_type": "stream",
     "text": [
      "[6, 60, 90, 120]\n"
     ]
    }
   ],
   "source": [
    "l = [2, 3, 6, 9, 27, 60, 90, 120, 55, 46]\n",
    "filter_numbers = list(filter(lambda x : x % 2 == 0 and x % 3 == 0,l))\n",
    "print(filter_numbers)"
   ]
  },
  {
   "cell_type": "markdown",
   "id": "fa6aada7-b2c8-404f-b027-08275b7ca0b6",
   "metadata": {},
   "source": [
    "#### 6.Write a python program to find palindromes in the given list of strings using lambda and filter function.\n",
    "#### ['python', 'php', 'aba', 'radar', 'level']"
   ]
  },
  {
   "cell_type": "code",
   "execution_count": 19,
   "id": "dd79cc99-8b6b-4d62-a25f-0d5021930126",
   "metadata": {},
   "outputs": [
    {
     "name": "stdout",
     "output_type": "stream",
     "text": [
      "['php', 'aba', 'radar', 'level']\n"
     ]
    }
   ],
   "source": [
    "words = ['python', 'php', 'aba', 'radar', 'level']\n",
    "\n",
    "palindromes = list(filter(lambda x: x == x[::-1], words))\n",
    "print(palindromes)"
   ]
  },
  {
   "cell_type": "code",
   "execution_count": null,
   "id": "581d053e-df87-4e1d-a551-cbee293b4d2d",
   "metadata": {},
   "outputs": [],
   "source": []
  }
 ],
 "metadata": {
  "kernelspec": {
   "display_name": "Python 3 (ipykernel)",
   "language": "python",
   "name": "python3"
  },
  "language_info": {
   "codemirror_mode": {
    "name": "ipython",
    "version": 3
   },
   "file_extension": ".py",
   "mimetype": "text/x-python",
   "name": "python",
   "nbconvert_exporter": "python",
   "pygments_lexer": "ipython3",
   "version": "3.10.8"
  }
 },
 "nbformat": 4,
 "nbformat_minor": 5
}
