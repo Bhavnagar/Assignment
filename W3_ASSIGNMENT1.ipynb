{
 "cells": [
  {
   "cell_type": "markdown",
   "id": "55930ae6-0f15-40dc-aaac-9b126c6204c1",
   "metadata": {},
   "source": [
    "#### 1. Which keyword is used to create a function? Create a function to return a list of odd numbers in the range of 1 to 25"
   ]
  },
  {
   "cell_type": "markdown",
   "id": "12e4ae53-2615-484e-8bdf-318c7b1dc0f6",
   "metadata": {},
   "source": [
    "-> The keyword used to create a function is typically \"def\"."
   ]
  },
  {
   "cell_type": "code",
   "execution_count": 5,
   "id": "e223888c-955a-4e2e-8035-a38287e7fd6a",
   "metadata": {},
   "outputs": [
    {
     "name": "stdout",
     "output_type": "stream",
     "text": [
      "[1, 3, 5, 7, 9, 11, 13, 15, 17, 19, 21, 23, 25]\n"
     ]
    }
   ],
   "source": [
    "def odd_number():\n",
    "    l1 = []\n",
    "    for num in range(1,26):\n",
    "        if num % 2 != 0:\n",
    "            l1.append(num)\n",
    "    return  l1\n",
    "print(odd_number())"
   ]
  },
  {
   "cell_type": "markdown",
   "id": "d78d8537-3604-4d9b-8312-9d40e4c63813",
   "metadata": {},
   "source": [
    "#### 2.Why *args and **kwargs is used in some functions? Create a function each for *args and **kwargs to demonstrate their use."
   ]
  },
  {
   "cell_type": "markdown",
   "id": "da772728-a157-4fd7-b936-69eeec4e0813",
   "metadata": {},
   "source": [
    "*args:\n",
    "    \n",
    "->The *args parameter is used to pass a variable number of positional arguments to a function. It collects all the extra positional arguments passed to the function as a tuple. \n",
    "\n",
    "**kwargs:\n",
    "    \n",
    "->The **kwargs parameter is used to pass a variable number of keyword arguments to a function.It collects all the extra keyword arguments passed to the function as a dictionary."
   ]
  },
  {
   "cell_type": "code",
   "execution_count": 6,
   "id": "ca407091-d92f-4b22-9341-59daec735754",
   "metadata": {},
   "outputs": [],
   "source": [
    "#*args\n",
    "def test1(*args,a):\n",
    "    return args , a"
   ]
  },
  {
   "cell_type": "code",
   "execution_count": 7,
   "id": "a781f081-f0b2-4c31-acaf-e2d58c1ca52f",
   "metadata": {},
   "outputs": [
    {
     "data": {
      "text/plain": [
       "((1, 2, 3, 4), 10)"
      ]
     },
     "execution_count": 7,
     "metadata": {},
     "output_type": "execute_result"
    }
   ],
   "source": [
    "test1(1,2,3,4 , a= 10)"
   ]
  },
  {
   "cell_type": "code",
   "execution_count": 8,
   "id": "819df10f-2042-4709-b072-4751afddbb93",
   "metadata": {},
   "outputs": [],
   "source": [
    "#**kwargs\n",
    "def test2(**kwargs):\n",
    "    return kwargs"
   ]
  },
  {
   "cell_type": "code",
   "execution_count": 10,
   "id": "9f2d26cb-2f76-44bb-82dd-a54d1d4d0969",
   "metadata": {},
   "outputs": [
    {
     "data": {
      "text/plain": [
       "{'a': [1, 2, 3, 4], 'b': 'Jay', 'c': 23.45, 'd': 25}"
      ]
     },
     "execution_count": 10,
     "metadata": {},
     "output_type": "execute_result"
    }
   ],
   "source": [
    "test2(a = [1,2,3,4],b = \"Jay\" , c = 23.45,d = 25)"
   ]
  },
  {
   "cell_type": "markdown",
   "id": "2e3bf0d0-607e-4801-95c6-6ddeb0cf6d1f",
   "metadata": {},
   "source": [
    "#### 3. What is an iterator in python? Name the method used to initialise the iterator object and the method used for iteration. Use these methods to print the first five elements of the given list [2, 4, 6, 8, 10, 12, 14, 16, 18, 20]"
   ]
  },
  {
   "cell_type": "code",
   "execution_count": null,
   "id": "a522441b-226c-416f-a0ca-a90b6de5b53f",
   "metadata": {},
   "outputs": [],
   "source": [
    "->An iterator in Python is an object that is used to iterate over iterable objects like lists, tuples, dicts, and sets.\n",
    "->An iterator is an object that can be iterated upon, meaning that you can traverse through all the values.\n",
    "\n",
    "->__iter__(): The iter() method is called for the initialization of an iterator. This returns an iterator object.\n",
    "->__next__(): The next method returns the next value for the iterable."
   ]
  },
  {
   "cell_type": "code",
   "execution_count": 12,
   "id": "e145a2c7-f67b-46bd-91c7-13a52633268b",
   "metadata": {},
   "outputs": [
    {
     "name": "stdout",
     "output_type": "stream",
     "text": [
      "2\n",
      "4\n",
      "6\n",
      "8\n",
      "10\n"
     ]
    }
   ],
   "source": [
    "list = [2, 4, 6, 8, 10, 12, 14, 16, 18, 20]\n",
    "my_iterator = iter(list)\n",
    "for i in range(5):\n",
    "    element = next(my_iterator)\n",
    "    print(element)"
   ]
  },
  {
   "cell_type": "markdown",
   "id": "8319009f-d22c-44b7-8e9f-d828a11e7e22",
   "metadata": {},
   "source": [
    "#### 4.What is a generator function in python? Why yield keyword is used? Give an example of a generator function"
   ]
  },
  {
   "cell_type": "markdown",
   "id": "7b5bd704-895a-419d-b560-0c689fa403e3",
   "metadata": {},
   "source": [
    "->generator function is a special type of function that returns an iterator.\n",
    "\n",
    "->generator functions use the 'yield' keyword.\n",
    "\n",
    "->The 'yield' keyword is used in generator functions to define points at which the function should yield a value."
   ]
  },
  {
   "cell_type": "code",
   "execution_count": 14,
   "id": "376a74a7-0074-4e85-b47a-a42483537ad1",
   "metadata": {},
   "outputs": [
    {
     "name": "stdout",
     "output_type": "stream",
     "text": [
      "0\n",
      "1\n",
      "4\n",
      "9\n",
      "16\n"
     ]
    }
   ],
   "source": [
    "def sq(n):\n",
    "    for i in range(n):\n",
    "        yield i ** 2\n",
    "a = sq(5)\n",
    "for i in a:\n",
    "    print(i)"
   ]
  },
  {
   "cell_type": "markdown",
   "id": "a0495e4a-c42c-49e9-90fc-0c43b0ac8e7a",
   "metadata": {},
   "source": [
    "#### 5. Create a generator function for prime numbers less than 1000. Use the next() method to print the first 20 prime numbers"
   ]
  },
  {
   "cell_type": "code",
   "execution_count": 5,
   "id": "711702bb-35df-4d8a-bb17-90d69355b72f",
   "metadata": {},
   "outputs": [],
   "source": [
    "def primes():\n",
    "    yield 2\n",
    "    primes_list = [2]\n",
    "    for i in range(3, 1000):\n",
    "        is_prime = True\n",
    "        for prime in primes_list:\n",
    "            if i % prime == 0:\n",
    "                is_prime = False\n",
    "                break\n",
    "        if is_prime:\n",
    "            primes_list.append(i)\n",
    "            yield i"
   ]
  },
  {
   "cell_type": "code",
   "execution_count": 6,
   "id": "459ff5c3-d102-486d-9e5e-4216eba8e45c",
   "metadata": {},
   "outputs": [
    {
     "name": "stdout",
     "output_type": "stream",
     "text": [
      "2\n",
      "3\n",
      "5\n",
      "7\n",
      "11\n",
      "13\n",
      "17\n",
      "19\n",
      "23\n",
      "29\n",
      "31\n",
      "37\n",
      "41\n",
      "43\n",
      "47\n",
      "53\n",
      "59\n",
      "61\n",
      "67\n",
      "71\n"
     ]
    }
   ],
   "source": [
    "prime_gen = primes()\n",
    "# the next() method to print the first 20 prime numbers.\n",
    "for i in range(20):\n",
    "    print(next(prime_gen))"
   ]
  },
  {
   "cell_type": "markdown",
   "id": "e85c55c7-f60e-45ce-a9cb-93ac291b4f3e",
   "metadata": {},
   "source": [
    "#### 6.Write a python program to print the first 10 Fibonacci numbers using a while loop"
   ]
  },
  {
   "cell_type": "code",
   "execution_count": 11,
   "id": "47887014-aa66-4979-a040-2399459e5462",
   "metadata": {},
   "outputs": [
    {
     "name": "stdout",
     "output_type": "stream",
     "text": [
      "0\n",
      "1\n",
      "1\n",
      "2\n",
      "3\n",
      "5\n",
      "8\n",
      "13\n",
      "21\n",
      "34\n"
     ]
    }
   ],
   "source": [
    "i = 0\n",
    "j = 1\n",
    "count = 0\n",
    "print(i)\n",
    "print(j)\n",
    "while count < 8:\n",
    "    next_num = i + j\n",
    " # Print the next Fibonacci number\n",
    "    print(next_num)\n",
    "# Update variables for the next iteration\n",
    "    i = j\n",
    "    j = next_num\n",
    "    count += 1"
   ]
  },
  {
   "cell_type": "markdown",
   "id": "199cf887-4588-45df-8758-605202730791",
   "metadata": {},
   "source": [
    "#### 7.Write a List Comprehension to iterate through the given string: ‘pwskills’.\n",
    "#### Expected output: ['p', 'w', 's', 'k', 'i', 'l', 'l', 's']"
   ]
  },
  {
   "cell_type": "code",
   "execution_count": 14,
   "id": "c8db65b2-8b47-47b2-ba6e-e386ccb12cb0",
   "metadata": {},
   "outputs": [
    {
     "data": {
      "text/plain": [
       "['p', 'w', 's', 'k', 'i', 'l', 'l', 's']"
      ]
     },
     "execution_count": 14,
     "metadata": {},
     "output_type": "execute_result"
    }
   ],
   "source": [
    "string = \"pwskills\"\n",
    "list(string)"
   ]
  },
  {
   "cell_type": "markdown",
   "id": "094b5b36-35d9-4a29-89cc-91837ff728cc",
   "metadata": {},
   "source": [
    "#### 8.Write a python program to check whether a given number is Palindrome or not using a while loop"
   ]
  },
  {
   "cell_type": "code",
   "execution_count": 16,
   "id": "95d23e45-5c53-4c8f-9d8d-7c90d6e781dd",
   "metadata": {},
   "outputs": [
    {
     "name": "stdin",
     "output_type": "stream",
     "text": [
      "Enter a number:  121\n"
     ]
    },
    {
     "name": "stdout",
     "output_type": "stream",
     "text": [
      "121 is a palindrome\n"
     ]
    }
   ],
   "source": [
    "#palindrome\n",
    "number = int(input(\"Enter a number: \"))\n",
    "temp = number\n",
    "reverse = 0\n",
    "\n",
    "while temp > 0:\n",
    "    digit = temp % 10\n",
    "    reverse = reverse * 10 + digit\n",
    "    temp = temp // 10\n",
    "\n",
    "if number == reverse:\n",
    "    print(number, \"is a palindrome\")\n",
    "else:\n",
    "    print(number, \"is not a palindrome\")"
   ]
  },
  {
   "cell_type": "code",
   "execution_count": 17,
   "id": "b8303bf5-9763-48de-903e-a09e1561d6a6",
   "metadata": {},
   "outputs": [
    {
     "name": "stdin",
     "output_type": "stream",
     "text": [
      "Enter a number:  123\n"
     ]
    },
    {
     "name": "stdout",
     "output_type": "stream",
     "text": [
      "123 is not a palindrome\n"
     ]
    }
   ],
   "source": [
    "#Not palindrome\n",
    "number = int(input(\"Enter a number: \"))\n",
    "temp = number\n",
    "reverse = 0\n",
    "\n",
    "while temp > 0:\n",
    "    digit = temp % 10\n",
    "    reverse = reverse * 10 + digit\n",
    "    temp = temp // 10\n",
    "\n",
    "if number == reverse:\n",
    "    print(number, \"is a palindrome\")\n",
    "else:\n",
    "    print(number, \"is not a palindrome\")"
   ]
  },
  {
   "cell_type": "markdown",
   "id": "99624097-8d27-45ec-ae0b-6466f483f441",
   "metadata": {},
   "source": [
    "#### 9.Write a code to print odd numbers from 1 to 100 using list comprehension"
   ]
  },
  {
   "cell_type": "code",
   "execution_count": 12,
   "id": "c0b5d02c-d551-4ba7-a4a3-c6859a4056be",
   "metadata": {},
   "outputs": [
    {
     "name": "stdout",
     "output_type": "stream",
     "text": [
      "[1, 3, 5, 7, 9, 11, 13, 15, 17, 19, 21, 23, 25, 27, 29, 31, 33, 35, 37, 39, 41, 43, 45, 47, 49, 51, 53, 55, 57, 59, 61, 63, 65, 67, 69, 71, 73, 75, 77, 79, 81, 83, 85, 87, 89, 91, 93, 95, 97, 99]\n"
     ]
    }
   ],
   "source": [
    "# Creating a list from 1 to 100\n",
    "numbers = [x for x in range(1, 100)]\n",
    "\n",
    "# Filtering out the odd numbers\n",
    "odd_number = [x for x in numbers if x % 2 != 0] \n",
    "print (odd_number) "
   ]
  },
  {
   "cell_type": "code",
   "execution_count": null,
   "id": "07d15ae9-b71a-4c54-8de3-be274196e16f",
   "metadata": {},
   "outputs": [],
   "source": []
  }
 ],
 "metadata": {
  "kernelspec": {
   "display_name": "Python 3 (ipykernel)",
   "language": "python",
   "name": "python3"
  },
  "language_info": {
   "codemirror_mode": {
    "name": "ipython",
    "version": 3
   },
   "file_extension": ".py",
   "mimetype": "text/x-python",
   "name": "python",
   "nbconvert_exporter": "python",
   "pygments_lexer": "ipython3",
   "version": "3.10.8"
  }
 },
 "nbformat": 4,
 "nbformat_minor": 5
}
