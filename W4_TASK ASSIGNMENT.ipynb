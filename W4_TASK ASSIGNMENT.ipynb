{
 "cells": [
  {
   "cell_type": "markdown",
   "id": "8651e310-210e-4ca4-8ee4-be25963acb9d",
   "metadata": {},
   "source": [
    "#### 1.Create a vehicle class with an init method having instance variables as name_of_vehicle, max_speed and average_of_vehicle. "
   ]
  },
  {
   "cell_type": "code",
   "execution_count": 12,
   "id": "823bd4b5-a555-4ff0-87a3-ef6a7a38a73d",
   "metadata": {},
   "outputs": [],
   "source": [
    "class vehicle:\n",
    "    \n",
    "    def __init__(self, name_of_vehicle,max_speed,average_of_vehicle):\n",
    "        self.name_of_vehicle = name_of_vehicle\n",
    "        self.max_speed = max_speed\n",
    "        self.average_of_vehicle = average_of_vehicle\n",
    "        "
   ]
  },
  {
   "cell_type": "code",
   "execution_count": 13,
   "id": "f1555066-a21c-4ef4-a2ea-f69b298aa03c",
   "metadata": {},
   "outputs": [],
   "source": [
    "car = vehicle(\"Toyata\", 200, 30)"
   ]
  },
  {
   "cell_type": "code",
   "execution_count": 14,
   "id": "d24ab6e7-c202-41da-9b88-2c4ada64b55a",
   "metadata": {},
   "outputs": [
    {
     "data": {
      "text/plain": [
       "30"
      ]
     },
     "execution_count": 14,
     "metadata": {},
     "output_type": "execute_result"
    }
   ],
   "source": [
    "car.average_of_vehicle"
   ]
  },
  {
   "cell_type": "code",
   "execution_count": 15,
   "id": "3e43cf54-9d82-4917-a4f7-e0dd2166fd2d",
   "metadata": {},
   "outputs": [
    {
     "data": {
      "text/plain": [
       "200"
      ]
     },
     "execution_count": 15,
     "metadata": {},
     "output_type": "execute_result"
    }
   ],
   "source": [
    "car.max_speed"
   ]
  },
  {
   "cell_type": "code",
   "execution_count": 16,
   "id": "af5e586b-2a83-4b00-b58e-701630362d38",
   "metadata": {},
   "outputs": [
    {
     "data": {
      "text/plain": [
       "'Toyata'"
      ]
     },
     "execution_count": 16,
     "metadata": {},
     "output_type": "execute_result"
    }
   ],
   "source": [
    "car.name_of_vehicle"
   ]
  },
  {
   "cell_type": "markdown",
   "id": "10a8a066-6df9-4de1-8093-dc943db52c83",
   "metadata": {},
   "source": [
    "#### 2.Create a child class car from the vehicle class created in Que 1, which will inherit the vehicle class. Create a method named seating_capacity which takes capacity as an argument and returns the name of the vehicle and its seating capacity."
   ]
  },
  {
   "cell_type": "code",
   "execution_count": 30,
   "id": "87d0890e-8120-40da-aedb-a9b27c1b46d0",
   "metadata": {},
   "outputs": [],
   "source": [
    "class vehicle:\n",
    "    \n",
    "    def __init__(self, name_of_vehicle,max_speed,average_of_vehicle):\n",
    "        self.name_of_vehicle = name_of_vehicle\n",
    "        self.max_speed = max_speed\n",
    "        self.average_of_vehicle = average_of_vehicle"
   ]
  },
  {
   "cell_type": "code",
   "execution_count": 31,
   "id": "27cb8b0c-7d11-4bdb-b438-fe8e1482119c",
   "metadata": {},
   "outputs": [],
   "source": [
    "class Car(vehicle):\n",
    "    \n",
    "    def seating_capacity(self,capacity):\n",
    "        return f\"The {self.name_of_vehicle} has a seating capacity of {capacity}.\""
   ]
  },
  {
   "cell_type": "code",
   "execution_count": 33,
   "id": "4a3af02d-6ed6-40c1-bf77-cb2acbff39c7",
   "metadata": {},
   "outputs": [],
   "source": [
    "car = Car(\"Toyota\", 180, 4)"
   ]
  },
  {
   "cell_type": "code",
   "execution_count": 34,
   "id": "4e70a117-1b19-4d87-a7f7-034a6e373144",
   "metadata": {},
   "outputs": [
    {
     "data": {
      "text/plain": [
       "'Toyota'"
      ]
     },
     "execution_count": 34,
     "metadata": {},
     "output_type": "execute_result"
    }
   ],
   "source": [
    "car.name_of_vehicle"
   ]
  },
  {
   "cell_type": "code",
   "execution_count": 35,
   "id": "5b321f52-896a-44ef-a583-ab556483e978",
   "metadata": {},
   "outputs": [
    {
     "data": {
      "text/plain": [
       "'The Toyota has a seating capacity of 6.'"
      ]
     },
     "execution_count": 35,
     "metadata": {},
     "output_type": "execute_result"
    }
   ],
   "source": [
    "car.seating_capacity(6)"
   ]
  },
  {
   "cell_type": "markdown",
   "id": "4846d7f2-0d81-4e99-bbe2-7d312e09f841",
   "metadata": {},
   "source": [
    "#### 3.What is multiple inheritance? Write a python code to demonstrate multiple inheritance."
   ]
  },
  {
   "cell_type": "markdown",
   "id": "d1dd6aea-37b0-49ed-879c-0a788bffe435",
   "metadata": {},
   "source": [
    "->Multiple inheritance is a feature in object-oriented programming where a class can inherit attributes and methods from multiple parent classes. This means that a child class can inherit from more than one base class, allowing it to incorporate characteristics from different sources."
   ]
  },
  {
   "cell_type": "code",
   "execution_count": 39,
   "id": "bdaaed09-b761-4587-8574-86b23ef57045",
   "metadata": {},
   "outputs": [],
   "source": [
    "class Animal:\n",
    "    def speak(self):\n",
    "        print(\"The animal is speaking.\")\n",
    "\n",
    "class Mammal:\n",
    "    def walk(self):\n",
    "        print(\"The mammal is walking.\")\n",
    "\n",
    "class Dog(Animal, Mammal):\n",
    "    def bark(self):\n",
    "        print(\"The dog is barking.\")"
   ]
  },
  {
   "cell_type": "code",
   "execution_count": 40,
   "id": "ad311a25-28a0-4707-979e-8b11a6562de9",
   "metadata": {},
   "outputs": [],
   "source": [
    "my_dog = Dog()"
   ]
  },
  {
   "cell_type": "code",
   "execution_count": 41,
   "id": "07fe29f6-61b1-4f28-b7af-a00756efbda0",
   "metadata": {},
   "outputs": [
    {
     "name": "stdout",
     "output_type": "stream",
     "text": [
      "The animal is speaking.\n"
     ]
    }
   ],
   "source": [
    "my_dog.speak()"
   ]
  },
  {
   "cell_type": "code",
   "execution_count": 42,
   "id": "357cefeb-a87c-47fe-9389-98309bc37e7e",
   "metadata": {},
   "outputs": [
    {
     "name": "stdout",
     "output_type": "stream",
     "text": [
      "The mammal is walking.\n"
     ]
    }
   ],
   "source": [
    "my_dog.walk()"
   ]
  },
  {
   "cell_type": "code",
   "execution_count": 43,
   "id": "5591b832-2759-4680-bf6d-bceb04f527d4",
   "metadata": {},
   "outputs": [
    {
     "name": "stdout",
     "output_type": "stream",
     "text": [
      "The dog is barking.\n"
     ]
    }
   ],
   "source": [
    "my_dog.bark()"
   ]
  },
  {
   "cell_type": "markdown",
   "id": "934937b7-362a-4c5c-b38c-f8c286e35898",
   "metadata": {},
   "source": [
    "#### 4.What are getter and setter in python? Create a class and create a getter and a setter method in this class."
   ]
  },
  {
   "cell_type": "markdown",
   "id": "a7103c2d-fdf7-4704-9323-66f1de675819",
   "metadata": {},
   "source": [
    "->getters and setters are methods used to access (get) and modify (set) the values of class attributes, respectively. They provide a way to control the access and modification of class attributes and ensure proper encapsulation."
   ]
  },
  {
   "cell_type": "code",
   "execution_count": 11,
   "id": "f48e15da-2531-4db8-9ed3-87da66873456",
   "metadata": {},
   "outputs": [],
   "source": [
    "class pwskills:\n",
    "    def __init__(self, emp_id, name, salary):\n",
    "        self._emp_id = emp_id\n",
    "        self._name = name\n",
    "        self.__emp_salary = salary\n",
    "    @property\n",
    "    def employee(self):\n",
    "        return self.__emp_salary\n",
    "    \n",
    "    @employee.getter\n",
    "    def employee_get(self):\n",
    "        return self.__emp_salary\n",
    "    \n",
    "    @employee.setter\n",
    "    def employee_set(self,salary):\n",
    "        if salary > 0:\n",
    "            self.__emp_salary = salary\n",
    "        else:\n",
    "            print(\"salary must be a positive value\")"
   ]
  },
  {
   "cell_type": "code",
   "execution_count": 12,
   "id": "49d39eb7-2b22-4b02-b687-c36183e4f281",
   "metadata": {},
   "outputs": [],
   "source": [
    "pw = pwskills(1,\"Jaydip\",6000)"
   ]
  },
  {
   "cell_type": "code",
   "execution_count": 13,
   "id": "5d52b9ce-9f8d-4117-900c-8bd95505d366",
   "metadata": {},
   "outputs": [
    {
     "data": {
      "text/plain": [
       "6000"
      ]
     },
     "execution_count": 13,
     "metadata": {},
     "output_type": "execute_result"
    }
   ],
   "source": [
    "#Getting the employee salary using the getters\n",
    "pw.employee_get"
   ]
  },
  {
   "cell_type": "code",
   "execution_count": 14,
   "id": "3a566149-c80a-4aa9-9123-d0902fd8c381",
   "metadata": {},
   "outputs": [],
   "source": [
    "#Setting employee salary using the setters\n",
    "pw.employee_set = 8000"
   ]
  },
  {
   "cell_type": "code",
   "execution_count": 15,
   "id": "65d86963-5fe5-4d3a-b851-1099ae6e257e",
   "metadata": {},
   "outputs": [
    {
     "data": {
      "text/plain": [
       "8000"
      ]
     },
     "execution_count": 15,
     "metadata": {},
     "output_type": "execute_result"
    }
   ],
   "source": [
    "pw.employee_get"
   ]
  },
  {
   "cell_type": "markdown",
   "id": "09c498c4-d8a3-41ae-9b9e-036c583286ea",
   "metadata": {},
   "source": [
    "#### 5.What is method overriding in python? Write a python code to demonstrate method overriding."
   ]
  },
  {
   "cell_type": "markdown",
   "id": "ede87107-dc49-46e6-b295-86a5ad670136",
   "metadata": {},
   "source": [
    "->Method overriding in Python refers to the ability of a subclass to provide its own implementation of a method that is already defined in its superclass. This allows the subclass to modify or extend the behavior of the inherited method."
   ]
  },
  {
   "cell_type": "code",
   "execution_count": 16,
   "id": "f0d6265d-5cd1-4f70-bd63-d3f850bf5354",
   "metadata": {},
   "outputs": [],
   "source": [
    "class Animal:\n",
    "    def make_sound(self):\n",
    "        print(\"The animal makes a sound.\")\n",
    "\n",
    "class Cat(Animal):\n",
    "    def make_sound(self):\n",
    "        print(\"Meow!\")\n",
    "\n",
    "class Dog(Animal):\n",
    "    def make_sound(self):\n",
    "        print(\"Woof!\")"
   ]
  },
  {
   "cell_type": "code",
   "execution_count": 17,
   "id": "969e64c2-a216-49b8-92bd-116747086a70",
   "metadata": {},
   "outputs": [],
   "source": [
    "animal = Animal()\n",
    "cat = Cat()\n",
    "dog = Dog()"
   ]
  },
  {
   "cell_type": "code",
   "execution_count": 18,
   "id": "af837ecf-962c-44db-9edb-9a0f1bfd1e56",
   "metadata": {},
   "outputs": [
    {
     "name": "stdout",
     "output_type": "stream",
     "text": [
      "The animal makes a sound.\n"
     ]
    }
   ],
   "source": [
    "animal.make_sound()"
   ]
  },
  {
   "cell_type": "code",
   "execution_count": 19,
   "id": "a994b1f1-0cd9-4c50-a4ea-20fa590230b8",
   "metadata": {},
   "outputs": [
    {
     "name": "stdout",
     "output_type": "stream",
     "text": [
      "Meow!\n"
     ]
    }
   ],
   "source": [
    "cat.make_sound()"
   ]
  },
  {
   "cell_type": "code",
   "execution_count": 20,
   "id": "7df63ee6-dc5b-42ad-850f-52cfc6e939ff",
   "metadata": {},
   "outputs": [
    {
     "name": "stdout",
     "output_type": "stream",
     "text": [
      "Woof!\n"
     ]
    }
   ],
   "source": [
    "dog.make_sound()"
   ]
  },
  {
   "cell_type": "code",
   "execution_count": null,
   "id": "aa26618d-4010-412b-92bb-b4d795a5c601",
   "metadata": {},
   "outputs": [],
   "source": []
  }
 ],
 "metadata": {
  "kernelspec": {
   "display_name": "Python 3 (ipykernel)",
   "language": "python",
   "name": "python3"
  },
  "language_info": {
   "codemirror_mode": {
    "name": "ipython",
    "version": 3
   },
   "file_extension": ".py",
   "mimetype": "text/x-python",
   "name": "python",
   "nbconvert_exporter": "python",
   "pygments_lexer": "ipython3",
   "version": "3.10.8"
  }
 },
 "nbformat": 4,
 "nbformat_minor": 5
}
